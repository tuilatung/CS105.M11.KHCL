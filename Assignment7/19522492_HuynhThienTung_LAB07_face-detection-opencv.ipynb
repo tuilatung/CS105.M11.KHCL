{
 "cells": [
  {
   "cell_type": "markdown",
   "id": "34833746-13e7-477e-9e49-5634057eb2da",
   "metadata": {},
   "source": [
    "Huỳnh Thiện Tùng\n",
    "19522492\n",
    "LAB 07"
   ]
  },
  {
   "cell_type": "code",
   "execution_count": 1,
   "id": "ef496876-ac2a-4f29-942c-871fc7cc4465",
   "metadata": {},
   "outputs": [],
   "source": [
    "import cv2"
   ]
  },
  {
   "cell_type": "code",
   "execution_count": 2,
   "id": "f4f2aa6b-514c-40d2-9fac-8c14528d1efa",
   "metadata": {},
   "outputs": [],
   "source": [
    "face_cascade = cv2.CascadeClassifier('haarcascade_frontalface_default.xml')"
   ]
  },
  {
   "cell_type": "code",
   "execution_count": 3,
   "id": "befeca81-6361-4d81-bb98-b8cb3470281a",
   "metadata": {},
   "outputs": [],
   "source": [
    "def face_detection(model, image=None, mode='image'):\n",
    "    if mode == 'image':\n",
    "        img = image.copy()\n",
    "        gray_img = cv2.cvtColor(img, cv2.COLOR_BGR2GRAY)\n",
    "\n",
    "        faces = face_cascade.detectMultiScale(gray_img, 1.1, 4)\n",
    "\n",
    "        for (x, y, w, h) in faces:\n",
    "            cv2.rectangle(img, (x, y), (x+w, y+h), (255, 0, 0), 2)\n",
    "\n",
    "        cv2.imshow('img', img)\n",
    "        cv2.waitKey()\n",
    "    elif mode == 'video':\n",
    "        cap = cv2.VideoCapture(0)\n",
    "        # To use a video file as input \n",
    "        # cap = cv2.VideoCapture('filename.mp4')\n",
    "        while True:\n",
    "            # Read the frame\n",
    "            _, img = cap.read()\n",
    "            # Convert to grayscale\n",
    "            gray = cv2.cvtColor(img, cv2.COLOR_BGR2GRAY)\n",
    "            # Detect the faces\n",
    "            faces = face_cascade.detectMultiScale(gray, 1.1, 4)\n",
    "            # Draw the rectangle around each face\n",
    "            for (x, y, w, h) in faces:\n",
    "                cv2.rectangle(img, (x, y), (x+w, y+h), (255, 0, 0), 2)\n",
    "            # Display\n",
    "            cv2.imshow('img', img)\n",
    "            # Stop if escape key is pressed\n",
    "            k = cv2.waitKey(30) & 0xff\n",
    "            if k==27:\n",
    "                break\n",
    "        # Release the VideoCapture object\n",
    "        cap.release()\n",
    "    else:\n",
    "        print('Image/Video mode only!')"
   ]
  },
  {
   "cell_type": "code",
   "execution_count": null,
   "id": "107e77e0-7e0a-47aa-834f-0c5ea226a93e",
   "metadata": {},
   "outputs": [],
   "source": [
    "# for image\n",
    "img = cv2.imread('test.jpg');\n",
    "face_detection(face_cascade, img)"
   ]
  },
  {
   "cell_type": "code",
   "execution_count": 4,
   "id": "34d0fad3-d961-4a20-b69b-7c8bbe3b868e",
   "metadata": {},
   "outputs": [],
   "source": [
    "# for video \n",
    "face_detection(face_cascade, mode='video')"
   ]
  },
  {
   "cell_type": "code",
   "execution_count": null,
   "id": "cb0c2edb",
   "metadata": {},
   "outputs": [],
   "source": []
  }
 ],
 "metadata": {
  "kernelspec": {
   "display_name": "Python 3",
   "language": "python",
   "name": "python3"
  },
  "language_info": {
   "codemirror_mode": {
    "name": "ipython",
    "version": 3
   },
   "file_extension": ".py",
   "mimetype": "text/x-python",
   "name": "python",
   "nbconvert_exporter": "python",
   "pygments_lexer": "ipython3",
   "version": "3.8.8"
  }
 },
 "nbformat": 4,
 "nbformat_minor": 5
}
