{
 "cells": [
  {
   "cell_type": "markdown",
   "id": "34833746-13e7-477e-9e49-5634057eb2da",
   "metadata": {},
   "source": [
    "Huỳnh Thiện Tùng\n",
    "\n",
    "19522492\n",
    "\n",
    "LAB 08"
   ]
  },
  {
   "cell_type": "markdown",
   "id": "085658fc",
   "metadata": {},
   "source": [
    "# Dò tìm các feature của khuôn mặt: mắt, mũi, miệng của khuôn mặt."
   ]
  },
  {
   "cell_type": "code",
   "execution_count": null,
   "id": "956ef00e",
   "metadata": {},
   "outputs": [],
   "source": []
  },
  {
   "cell_type": "code",
   "execution_count": 60,
   "id": "cb0c2edb",
   "metadata": {},
   "outputs": [],
   "source": [
    "import numpy as np\n",
    "import cv2\n",
    "\n",
    "face_cascade = cv2.CascadeClassifier('./haarcascade_frontalface_default.xml')\n",
    "eye_cascade = cv2.CascadeClassifier('./haarcascade_eye.xml')\n",
    "mouth_cascade = cv2.CascadeClassifier('./haarcascade_mcs_mouth.xml')\n",
    "nose_cascade = cv2.CascadeClassifier('./haarcascade_mcs_nose.xml')\n",
    "\n",
    "img = cv2.imread('./image3.jpg')\n",
    "gray = cv2.cvtColor(img, cv2.COLOR_BGR2GRAY)\n",
    "\n",
    "faces = face_cascade.detectMultiScale(gray, 1.3, 3)\n",
    "\n",
    "for (x,y,w,h) in faces:\n",
    "    cv2.rectangle(img, (x,y), (x+w,y+h), (255,0,0), 2)\n",
    "    roi_gray = gray[y:y+h, x:x+w]\n",
    "    roi_color = img[y:y+h, x:x+w]\n",
    "    eyes = eye_cascade.detectMultiScale(gray, 1.15, 3)\n",
    "    nose =  nose_cascade.detectMultiScale(gray, 1.15, 6)\n",
    "    mouth = mouth_cascade.detectMultiScale(gray, 1.5, 10)\n",
    "\n",
    "    for (ex,ey,ew,eh) in eyes:\n",
    "        cv2.rectangle(img, (ex,ey), (ex+ew, ey+eh), (0,255,0), 2)\n",
    "    for (nx, ny, nw, nh) in nose:\n",
    "        cv2.rectangle(img, (nx, ny), (nx + nw, ny + nh), (0, 0, 255), 2)\n",
    "    for (mx, my, mw, mh) in mouth:\n",
    "        cv2.rectangle(img, (mx, my), (mx + mw, my + mh), (0, 0, 0), 2)\n",
    "\n",
    "cv2.namedWindow('image', cv2.WINDOW_NORMAL)\n",
    "cv2.imshow('image',img)\n",
    "cv2.waitKey(0)\n",
    "cv2.destroyAllWindows()"
   ]
  },
  {
   "cell_type": "markdown",
   "id": "825418ec",
   "metadata": {},
   "source": [
    "# Dò tìm người đi bộ trong ảnh và video áp dụng haarcascade fullbody, upper, lower"
   ]
  },
  {
   "cell_type": "markdown",
   "id": "3b2f86bd",
   "metadata": {},
   "source": [
    "Dò tìm người đi bộ trong ảnh áp dụng haarcascade fullbody"
   ]
  },
  {
   "cell_type": "code",
   "execution_count": 6,
   "id": "9dc02e18",
   "metadata": {},
   "outputs": [],
   "source": [
    "import numpy as np\n",
    "import cv2\n",
    "\n",
    "people_classifier = cv2.CascadeClassifier('./haarcascade_fullbody.xml')\n",
    "\n",
    "img = cv2.imread('./image2.jpg')\n",
    "gray = cv2.cvtColor(img, cv2.COLOR_BGR2GRAY)\n",
    "\n",
    "people = people_classifier.detectMultiScale(gray, 1.1, 1)\n",
    "\n",
    "for (x,y,w,h) in people:\n",
    "    cv2.rectangle(img, (x,y), (x+w,y+h), (255,0,0), 2)\n",
    "\n",
    "cv2.imshow('image',img)\n",
    "cv2.waitKey(0)\n",
    "cv2.destroyAllWindows()"
   ]
  },
  {
   "cell_type": "markdown",
   "id": "60b3de68",
   "metadata": {},
   "source": [
    "Dò tìm người đi bộ trong ảnh áp dụng haarcascade upper"
   ]
  },
  {
   "cell_type": "code",
   "execution_count": 3,
   "id": "1e69c7fa",
   "metadata": {},
   "outputs": [],
   "source": [
    "import numpy as np\n",
    "import cv2\n",
    "\n",
    "people_classifier = cv2.CascadeClassifier('./haarcascade_upperbody.xml')\n",
    "\n",
    "img = cv2.imread('./image2.jpg')\n",
    "gray = cv2.cvtColor(img, cv2.COLOR_BGR2GRAY)\n",
    "\n",
    "people = people_classifier.detectMultiScale(gray, 1.1, 1)\n",
    "\n",
    "for (x,y,w,h) in people:\n",
    "    cv2.rectangle(img, (x,y), (x+w,y+h), (255,0,0), 2)\n",
    "\n",
    "cv2.imshow('image',img)\n",
    "cv2.waitKey(0)\n",
    "cv2.destroyAllWindows()"
   ]
  },
  {
   "cell_type": "markdown",
   "id": "a5a3e2b8",
   "metadata": {},
   "source": [
    "Dò tìm người đi bộ trong ảnh áp dụng haarcascade lower"
   ]
  },
  {
   "cell_type": "code",
   "execution_count": 5,
   "id": "900533e3",
   "metadata": {},
   "outputs": [],
   "source": [
    "import numpy as np\n",
    "import cv2\n",
    "\n",
    "people_classifier = cv2.CascadeClassifier('./haarcascade_lowerbody.xml')\n",
    "\n",
    "img = cv2.imread('./image2.jpg')\n",
    "gray = cv2.cvtColor(img, cv2.COLOR_BGR2GRAY)\n",
    "\n",
    "people = people_classifier.detectMultiScale(gray, 1.1, 1)\n",
    "\n",
    "for (x,y,w,h) in people:\n",
    "    cv2.rectangle(img, (x,y), (x+w,y+h), (255,0,0), 2)\n",
    "\n",
    "cv2.imshow('image',img)\n",
    "cv2.waitKey(0)\n",
    "cv2.destroyAllWindows()"
   ]
  },
  {
   "cell_type": "markdown",
   "id": "5e0da478",
   "metadata": {},
   "source": [
    "Dò tìm người đi bộ trong video áp dụng haarcascade fullbody"
   ]
  },
  {
   "cell_type": "code",
   "execution_count": 1,
   "id": "4cc828b3",
   "metadata": {},
   "outputs": [],
   "source": [
    "import numpy as np\n",
    "import cv2\n",
    "\n",
    "people_classifier = cv2.CascadeClassifier('./haarcascade_fullbody.xml')\n",
    "cap = cv2.VideoCapture('video2.mp4')\n",
    "while True:\n",
    "    # reads frames from a video\n",
    "    ret, frames = cap.read()\n",
    "      \n",
    "    # convert to gray scale of each frames\n",
    "    gray = cv2.cvtColor(frames, cv2.COLOR_BGR2GRAY)\n",
    "      \n",
    "    # Detects cars of different sizes in the input image\n",
    "    people = people_classifier.detectMultiScale(gray, 1.1, 3)\n",
    "      \n",
    "    # To draw a rectangle in each cars\n",
    "    for (x,y,w,h) in people:\n",
    "        cv2.rectangle(frames,(x,y),(x+w,y+h),(0,0,255),2)\n",
    "  \n",
    "   # Display frames in a window \n",
    "    cv2.imshow('video2', frames)\n",
    "      \n",
    "    # Wait for Esc key to stop\n",
    "    if cv2.waitKey(33) == 27:\n",
    "        break\n",
    "  \n",
    " # De-allocate any associated memory usage\n",
    "cv2.destroyAllWindows()"
   ]
  },
  {
   "cell_type": "markdown",
   "id": "0e4147df",
   "metadata": {},
   "source": [
    "Dò tìm người đi bộ trong ảnh áp dụng haarcascade upper"
   ]
  },
  {
   "cell_type": "code",
   "execution_count": 10,
   "id": "f5ebfb39",
   "metadata": {},
   "outputs": [],
   "source": [
    "import numpy as np\n",
    "import cv2\n",
    "\n",
    "people_classifier = cv2.CascadeClassifier('./haarcascade_upperbody.xml')\n",
    "cap = cv2.VideoCapture('video2.mp4')\n",
    "while True:\n",
    "    # reads frames from a video\n",
    "    ret, frames = cap.read()\n",
    "      \n",
    "    # convert to gray scale of each frames\n",
    "    gray = cv2.cvtColor(frames, cv2.COLOR_BGR2GRAY)\n",
    "      \n",
    "    # Detects cars of different sizes in the input image\n",
    "    people = people_classifier.detectMultiScale(gray, 1.1, 3)\n",
    "      \n",
    "    # To draw a rectangle in each cars\n",
    "    for (x,y,w,h) in people:\n",
    "        cv2.rectangle(frames,(x,y),(x+w,y+h),(0,0,255),2)\n",
    "  \n",
    "   # Display frames in a window \n",
    "    cv2.imshow('video2', frames)\n",
    "      \n",
    "    # Wait for Esc key to stop\n",
    "    if cv2.waitKey(33) == 27:\n",
    "        break\n",
    "  \n",
    " # De-allocate any associated memory usage\n",
    "cv2.destroyAllWindows()"
   ]
  },
  {
   "cell_type": "markdown",
   "id": "8d5f3710",
   "metadata": {},
   "source": [
    "Dò tìm người đi bộ trong ảnh áp dụng haarcascade lower"
   ]
  },
  {
   "cell_type": "code",
   "execution_count": 9,
   "id": "ec022f8e",
   "metadata": {},
   "outputs": [],
   "source": [
    "import numpy as np\n",
    "import cv2\n",
    "\n",
    "people_classifier = cv2.CascadeClassifier('./haarcascade_lowerbody.xml')\n",
    "cap = cv2.VideoCapture('video1.mp4')\n",
    "while True:\n",
    "    # reads frames from a video\n",
    "    ret, frames = cap.read()\n",
    "      \n",
    "    # convert to gray scale of each frames\n",
    "    gray = cv2.cvtColor(frames, cv2.COLOR_BGR2GRAY)\n",
    "      \n",
    "    # Detects cars of different sizes in the input image\n",
    "    people = people_classifier.detectMultiScale(gray, 1.1, 3)\n",
    "      \n",
    "    # To draw a rectangle in each cars\n",
    "    for (x,y,w,h) in people:\n",
    "        cv2.rectangle(frames,(x,y),(x+w,y+h),(0,0,255),2)\n",
    "  \n",
    "   # Display frames in a window \n",
    "    cv2.imshow('video2', frames)\n",
    "      \n",
    "    # Wait for Esc key to stop\n",
    "    if cv2.waitKey(33) == 27:\n",
    "        break\n",
    "  \n",
    " # De-allocate any associated memory usage\n",
    "cv2.destroyAllWindows()"
   ]
  },
  {
   "cell_type": "markdown",
   "id": "b8085121",
   "metadata": {},
   "source": [
    "# Dò tìm car trong ảnh"
   ]
  },
  {
   "cell_type": "code",
   "execution_count": 4,
   "id": "af4fed3c",
   "metadata": {},
   "outputs": [],
   "source": [
    "import numpy as np\n",
    "import cv2\n",
    "\n",
    "car_classifier = cv2.CascadeClassifier('./haarcascade_car.xml')\n",
    "\n",
    "img = cv2.imread('./image1.jpg')\n",
    "gray = cv2.cvtColor(img, cv2.COLOR_BGR2GRAY)\n",
    "\n",
    "cars = car_classifier.detectMultiScale(gray, 1.1, 1)\n",
    "\n",
    "for (x,y,w,h) in cars:\n",
    "    cv2.rectangle(img, (x,y), (x+w,y+h), (255,0,0), 2)\n",
    "\n",
    "cv2.imshow('image',img)\n",
    "cv2.waitKey(0)\n",
    "cv2.destroyAllWindows()"
   ]
  },
  {
   "cell_type": "markdown",
   "id": "a03148f1",
   "metadata": {},
   "source": [
    "# Dò tìm car trong video"
   ]
  },
  {
   "cell_type": "code",
   "execution_count": 5,
   "id": "2d6cd558",
   "metadata": {},
   "outputs": [],
   "source": [
    "import numpy as np\n",
    "import cv2\n",
    "\n",
    "car_classifier = cv2.CascadeClassifier('./haarcascade_car.xml')\n",
    "cap = cv2.VideoCapture('video.avi')\n",
    "while True:\n",
    "    # reads frames from a video\n",
    "    ret, frames = cap.read()\n",
    "      \n",
    "    # convert to gray scale of each frames\n",
    "    gray = cv2.cvtColor(frames, cv2.COLOR_BGR2GRAY)\n",
    "      \n",
    "    # Detects cars of different sizes in the input image\n",
    "    cars = car_classifier.detectMultiScale(gray, 1.1, 1)\n",
    "      \n",
    "    # To draw a rectangle in each cars\n",
    "    for (x,y,w,h) in cars:\n",
    "        cv2.rectangle(frames,(x,y),(x+w,y+h),(0,0,255),2)\n",
    "  \n",
    "   # Display frames in a window \n",
    "    cv2.imshow('video2', frames)\n",
    "      \n",
    "    # Wait for Esc key to stop\n",
    "    if cv2.waitKey(33) == 27:\n",
    "        break\n",
    "  \n",
    " # De-allocate any associated memory usage\n",
    "cv2.destroyAllWindows()"
   ]
  }
 ],
 "metadata": {
  "kernelspec": {
   "display_name": "Python 3",
   "language": "python",
   "name": "python3"
  },
  "language_info": {
   "codemirror_mode": {
    "name": "ipython",
    "version": 3
   },
   "file_extension": ".py",
   "mimetype": "text/x-python",
   "name": "python",
   "nbconvert_exporter": "python",
   "pygments_lexer": "ipython3",
   "version": "3.8.8"
  }
 },
 "nbformat": 4,
 "nbformat_minor": 5
}
